{
 "cells": [
  {
   "cell_type": "code",
   "execution_count": 1,
   "metadata": {},
   "outputs": [],
   "source": [
    "import numpy as np\n",
    "import cv2\n",
    "\n",
    "import os\n",
    "from os.path import join\n",
    "\n",
    "import string\n",
    "import matplotlib.pyplot as plt\n",
    "import tqdm\n",
    "\n",
    "from collections import Counter\n",
    "import re \n",
    "import io\n",
    "import copy\n",
    "import time\n",
    "import editdistance\n",
    "import keras\n",
    "\n",
    "import tensorflow as tf\n",
    "\n",
    "from tensorflow.keras import layers\n",
    "from tensorflow.keras.layers import Dense, LSTM, GRU, Reshape, BatchNormalization, Input, Conv2D, MaxPool2D, Lambda, Bidirectional\n",
    "from tensorflow.keras.models import Model\n",
    "from tensorflow.keras.activations import relu, sigmoid, softmax\n",
    "import tensorflow.keras.backend as K\n",
    "from tensorflow.keras.utils import to_categorical\n",
    "from tensorflow.keras.callbacks import ModelCheckpoint, EarlyStopping, ReduceLROnPlateau\n",
    "\n",
    "from tensorflow.keras.preprocessing.sequence import pad_sequences"
   ]
  },
  {
   "cell_type": "code",
   "execution_count": 50,
   "metadata": {},
   "outputs": [
    {
     "name": "stdout",
     "output_type": "stream",
     "text": [
      "201\n"
     ]
    }
   ],
   "source": [
    "#TXT \n",
    "trans_dir = 'train/words'\n",
    "#jpg\n",
    "image_dir = 'train/images'\n",
    "#number of training files\n",
    "print(len(os.listdir(trans_dir)))"
   ]
  },
  {
   "cell_type": "code",
   "execution_count": 3,
   "metadata": {},
   "outputs": [
    {
     "data": {
      "image/png": "[encoded data removed]",
      "text/plain": [
       "<Figure size 432x288 with 1 Axes>"
      ]
     },
     "metadata": {
      "needs_background": "light"
     },
     "output_type": "display_data"
    }
   ],
   "source": [
    "example = os.listdir(image_dir)[0]\n",
    "img = plt.imread(image_dir+'/'+example)\n",
    "plt.imshow(img)\n",
    "plt.show()"
   ]
  },
  {
   "cell_type": "code",
   "execution_count": 4,
   "metadata": {},
   "outputs": [
    {
     "name": "stdout",
     "output_type": "stream",
     "text": [
      "0\n"
     ]
    }
   ],
   "source": [
    "with io.open(trans_dir+'/'+example[:-3]+'TXT', 'r',  encoding='utf8') as file:\n",
    "    data = file.read()\n",
    "print(data)"
   ]
  },
  {
   "cell_type": "code",
   "execution_count": 5,
   "metadata": {},
   "outputs": [],
   "source": [
    "def text_to_labels(text):\n",
    "    return list(map(lambda x: letters.index(x), text))"
   ]
  },
  {
   "cell_type": "code",
   "execution_count": 24,
   "metadata": {},
   "outputs": [],
   "source": [
    "def process_texts(image_dir,trans_dir):\n",
    "    lens = []\n",
    "    letters = ''\n",
    "\n",
    "    lines = []\n",
    "    names = []\n",
    "    \n",
    "    all_files = os.listdir(trans_dir)\n",
    "    for filename in os.listdir(image_dir):\n",
    "        if filename[:-3]+'TXT' in all_files:\n",
    "            name, ext = os.path.splitext(filename)\n",
    "            txt_filepath = join(trans_dir, name + '.TXT')\n",
    "            with open(txt_filepath, 'r',encoding='utf-8') as file:\n",
    "                data = file.read()\n",
    "                if len(data)==0:\n",
    "                    continue\n",
    "                lines.append(data)\n",
    "                names.append(filename)\n",
    "                lens.append(len(data))\n",
    "                letters += data\n",
    "    return names,lines,Counter(letters)"
   ]
  },
  {
   "cell_type": "code",
   "execution_count": 26,
   "metadata": {},
   "outputs": [
    {
     "name": "stdout",
     "output_type": "stream",
     "text": [
      "Символы train:   0 1 2 3 4 5 6 7 8 9 И К Н П и\n"
     ]
    }
   ],
   "source": [
    "letters = set(cnt.keys())\n",
    "letters = sorted(list(letters))\n",
    "print('Символы train:', ' '.join(letters))"
   ]
  },
  {
   "cell_type": "code",
   "execution_count": 27,
   "metadata": {},
   "outputs": [],
   "source": [
    "def process_image(img):\n",
    "    w, h,_ = img.shape\n",
    "    \n",
    "    new_w = 128\n",
    "    new_h = int(h * (new_w / w))\n",
    "    img = cv2.resize(img, (new_h, new_w))\n",
    "    w, h,_ = img.shape\n",
    "    \n",
    "    img = img.astype('float32')\n",
    "    \n",
    "    if w < 128:\n",
    "        add_zeros = np.full((128-w, h,3), 255)\n",
    "        img = np.concatenate((img, add_zeros))\n",
    "        w, h,_ = img.shape\n",
    "    \n",
    "    if h < 1024:\n",
    "        add_zeros = np.full((w, 1024-h,3), 255)\n",
    "        img = np.concatenate((img, add_zeros), axis=1)\n",
    "        w, h,_ = img.shape\n",
    "        \n",
    "    if h > 1024 or w > 128:\n",
    "        dim = (1024,128)\n",
    "        img = cv2.resize(img, dim)\n",
    "    \n",
    "    img = cv2.subtract(255, img)\n",
    "\n",
    "    img = img / 255\n",
    "    \n",
    "    return img"
   ]
  },
  {
   "cell_type": "code",
   "execution_count": 28,
   "metadata": {},
   "outputs": [],
   "source": [
    "def generate_data(lines,names,image_dir):\n",
    "    data_images = []\n",
    "    data_labels = []\n",
    "    data_input_length = []\n",
    "    data_label_length = []\n",
    "    data_original_text = []\n",
    "    data_original_image = []\n",
    "    \n",
    "    max_label_len = 0\n",
    "    for line, name in tqdm.tqdm_notebook(zip(lines,names)):\n",
    "        img = cv2.imread(image_dir+'/'+name)\n",
    "        original_image = copy.deepcopy(img)\n",
    "        img = process_image(img)\n",
    "        try:\n",
    "            label = text_to_labels(line)\n",
    "        except:\n",
    "            print('bad_label')\n",
    "            continue\n",
    "        data_images.append(img)\n",
    "        data_labels.append(label)\n",
    "        data_input_length.append(255)\n",
    "        data_label_length.append(len(line))\n",
    "        data_original_text.append(line)\n",
    "        data_original_image.append(original_image)\n",
    "        \n",
    "        if len(line) > max_label_len:\n",
    "            max_label_len = len(line)\n",
    "        \n",
    "    return data_images, data_labels, data_input_length, data_label_length, \\\n",
    "            data_original_text, data_original_image, max_label_len"
   ]
  },
  {
   "cell_type": "code",
   "execution_count": 29,
   "metadata": {},
   "outputs": [],
   "source": [
    "lines_train = []\n",
    "names_train = []\n",
    "\n",
    "lines_val = []\n",
    "names_val = []\n",
    "\n",
    "#?if?\n",
    "for num,(line, name) in enumerate(zip(lines,names)):\n",
    "    if num % 15 == 0:\n",
    "        lines_val.append(line)\n",
    "        names_val.append(name)\n",
    "    else:\n",
    "        lines_train.append(line)\n",
    "        names_train.append(name)"
   ]
  },
  {
   "cell_type": "code",
   "execution_count": 30,
   "metadata": {},
   "outputs": [
    {
     "name": "stderr",
     "output_type": "stream",
     "text": [
      "<ipython-input-28-67ee2440d525>:10: TqdmDeprecationWarning: This function will be removed in tqdm==5.0.0\n",
      "Please use `tqdm.notebook.tqdm` instead of `tqdm.tqdm_notebook`\n",
      "  for line, name in tqdm.tqdm_notebook(zip(lines,names)):\n"
     ]
    },
    {
     "data": {
      "application/vnd.jupyter.widget-view+json": {
       "model_id": "da411108eafe4e10b5411a398406fdcd",
       "version_major": 2,
       "version_minor": 0
      },
      "text/plain": [
       "HBox(children=(FloatProgress(value=1.0, bar_style='info', max=1.0), HTML(value='')))"
      ]
     },
     "metadata": {},
     "output_type": "display_data"
    },
    {
     "name": "stdout",
     "output_type": "stream",
     "text": [
      "\n"
     ]
    }
   ],
   "source": [
    "train_images, train_labels, train_input_length, train_label_length, train_original_text, train_original_image, \\\n",
    "        train_max_label_len = generate_data(lines_train, names_train, image_dir)"
   ]
  },
  {
   "cell_type": "code",
   "execution_count": 31,
   "metadata": {},
   "outputs": [
    {
     "name": "stderr",
     "output_type": "stream",
     "text": [
      "<ipython-input-28-67ee2440d525>:10: TqdmDeprecationWarning: This function will be removed in tqdm==5.0.0\n",
      "Please use `tqdm.notebook.tqdm` instead of `tqdm.tqdm_notebook`\n",
      "  for line, name in tqdm.tqdm_notebook(zip(lines,names)):\n"
     ]
    },
    {
     "data": {
      "application/vnd.jupyter.widget-view+json": {
       "model_id": "9971f4ef1b5140508c01b7036cd243d7",
       "version_major": 2,
       "version_minor": 0
      },
      "text/plain": [
       "HBox(children=(FloatProgress(value=1.0, bar_style='info', max=1.0), HTML(value='')))"
      ]
     },
     "metadata": {},
     "output_type": "display_data"
    },
    {
     "name": "stdout",
     "output_type": "stream",
     "text": [
      "\n"
     ]
    }
   ],
   "source": [
    "val_images, val_labels, val_input_length, val_label_length, val_original_text, val_original_image, \\\n",
    "        val_max_label_len = generate_data(lines_val, names_val, image_dir)"
   ]
  },
  {
   "cell_type": "code",
   "execution_count": 32,
   "metadata": {},
   "outputs": [
    {
     "name": "stdout",
     "output_type": "stream",
     "text": [
      "14\n"
     ]
    }
   ],
   "source": [
    "max_label_len = max(train_max_label_len,val_max_label_len)\n",
    "print(max_label_len)"
   ]
  },
  {
   "cell_type": "code",
   "execution_count": 33,
   "metadata": {},
   "outputs": [
    {
     "name": "stderr",
     "output_type": "stream",
     "text": [
      "Clipping input data to the valid range for imshow with RGB data ([0..1] for floats or [0..255] for integers).\n"
     ]
    },
    {
     "name": "stdout",
     "output_type": "stream",
     "text": [
      "КПП 772901001\n"
     ]
    },
    {
     "data": {
      "image/png": "[encoded data removed]",
      "text/plain": [
       "<Figure size 432x288 with 1 Axes>"
      ]
     },
     "metadata": {
      "needs_background": "light"
     },
     "output_type": "display_data"
    },
    {
     "name": "stdout",
     "output_type": "stream",
     "text": [
      "2\n"
     ]
    },
    {
     "name": "stderr",
     "output_type": "stream",
     "text": [
      "Clipping input data to the valid range for imshow with RGB data ([0..1] for floats or [0..255] for integers).\n"
     ]
    },
    {
     "data": {
      "image/png": "[encoded data removed]",
      "text/plain": [
       "<Figure size 432x288 with 1 Axes>"
      ]
     },
     "metadata": {
      "needs_background": "light"
     },
     "output_type": "display_data"
    }
   ],
   "source": [
    "rnd = np.random.choice(range(len(train_images)),2)\n",
    "\n",
    "for i in rnd:\n",
    "    print(train_original_text[i])\n",
    "    plt.imshow(train_images[i])\n",
    "    plt.show()"
   ]
  },
  {
   "cell_type": "code",
   "execution_count": 34,
   "metadata": {},
   "outputs": [],
   "source": [
    "train_padded_label = pad_sequences(train_labels, \n",
    "                             maxlen=max_label_len, \n",
    "                             padding='post',\n",
    "                             value=len(letters))\n",
    "\n",
    "val_padded_label = pad_sequences(val_labels, \n",
    "                             maxlen=max_label_len, \n",
    "                             padding='post',\n",
    "                             value=len(letters))"
   ]
  },
  {
   "cell_type": "code",
   "execution_count": 35,
   "metadata": {},
   "outputs": [
    {
     "data": {
      "text/plain": [
       "((173, 14), (13, 14))"
      ]
     },
     "execution_count": 35,
     "metadata": {},
     "output_type": "execute_result"
    }
   ],
   "source": [
    "train_padded_label.shape, val_padded_label.shape"
   ]
  },
  {
   "cell_type": "code",
   "execution_count": 36,
   "metadata": {},
   "outputs": [],
   "source": [
    "train_images = np.asarray(train_images)\n",
    "train_input_length = np.asarray(train_input_length)\n",
    "train_label_length = np.asarray(train_label_length)\n",
    "\n",
    "val_images = np.asarray(val_images)\n",
    "val_input_length = np.asarray(val_input_length)\n",
    "val_label_length = np.asarray(val_label_length)"
   ]
  },
  {
   "cell_type": "code",
   "execution_count": 37,
   "metadata": {},
   "outputs": [
    {
     "data": {
      "text/plain": [
       "(173, 128, 1024, 3)"
      ]
     },
     "execution_count": 37,
     "metadata": {},
     "output_type": "execute_result"
    }
   ],
   "source": [
    "train_images.shape"
   ]
  },
  {
   "cell_type": "code",
   "execution_count": 38,
   "metadata": {},
   "outputs": [],
   "source": [
    "inputs = Input(shape=(128,1024,3))\n",
    "\n",
    "conv_1 = Conv2D(64, (3,3), activation = 'relu', padding='same')(inputs)\n",
    "pool_1 = MaxPool2D(pool_size=(4, 2), strides=2)(conv_1)\n",
    "\n",
    "conv_2 = Conv2D(128, (3,3), activation = 'relu', padding='same')(pool_1)\n",
    "pool_2 = MaxPool2D(pool_size=(4, 2), strides=2)(conv_2)\n",
    "\n",
    "conv_3 = Conv2D(256, (3,3), activation = 'relu', padding='same')(pool_2)\n",
    "\n",
    "conv_4 = Conv2D(256, (3,3), activation = 'relu', padding='same')(conv_3)\n",
    "\n",
    "pool_4 = MaxPool2D(pool_size=(4, 1),padding='same')(conv_4)\n",
    "\n",
    "conv_5 = Conv2D(512, (3,3), activation = 'relu', padding='same')(pool_4)\n",
    "\n",
    "batch_norm_5 = BatchNormalization()(conv_5)\n",
    "\n",
    "conv_6 = Conv2D(512, (3,3), activation = 'relu', padding='same')(batch_norm_5)\n",
    "batch_norm_6 = BatchNormalization()(conv_6)\n",
    "pool_6 = MaxPool2D(pool_size=(4, 1),padding='same')(batch_norm_6)\n",
    "\n",
    "conv_7 = Conv2D(512, (2,2), activation = 'relu')(pool_6)\n",
    "\n",
    "squeezed = Lambda(lambda x: K.squeeze(x, 1))(conv_7)\n",
    "\n",
    "blstm_1 = Bidirectional(GRU(256, return_sequences=True, dropout = 0.2))(squeezed)\n",
    "blstm_2 = Bidirectional(GRU(256, return_sequences=True, dropout = 0.2))(blstm_1)\n",
    "\n",
    "outputs = Dense(len(letters)+1, activation = 'softmax')(blstm_2)\n",
    "act_model = Model(inputs=inputs, outputs=outputs)\n",
    "    \n",
    "the_labels = Input(name='the_labels', shape=[max_label_len], dtype='float32')\n",
    "input_length = Input(name='input_length', shape=[1], dtype='int64')\n",
    "label_length = Input(name='label_length', shape=[1], dtype='int64')\n",
    "\n",
    "def ctc_lambda_func(args):\n",
    "    y_pred, labels, input_length, label_length = args\n",
    "\n",
    "    return K.ctc_batch_cost(labels, y_pred, input_length, label_length)\n",
    "\n",
    "loss_out = Lambda(ctc_lambda_func, output_shape=(1,), name='ctc')([outputs, the_labels, input_length, label_length])\n",
    "\n",
    "model = Model(inputs=[inputs, the_labels, input_length, label_length], outputs=loss_out)"
   ]
  },
  {
   "cell_type": "code",
   "execution_count": 39,
   "metadata": {},
   "outputs": [
    {
     "name": "stdout",
     "output_type": "stream",
     "text": [
      "Model: \"functional_5\"\n",
      "_________________________________________________________________\n",
      "Layer (type)                 Output Shape              Param #   \n",
      "=================================================================\n",
      "input_2 (InputLayer)         [(None, 128, 1024, 3)]    0         \n",
      "_________________________________________________________________\n",
      "conv2d_7 (Conv2D)            (None, 128, 1024, 64)     1792      \n",
      "_________________________________________________________________\n",
      "max_pooling2d_4 (MaxPooling2 (None, 63, 512, 64)       0         \n",
      "_________________________________________________________________\n",
      "conv2d_8 (Conv2D)            (None, 63, 512, 128)      73856     \n",
      "_________________________________________________________________\n",
      "max_pooling2d_5 (MaxPooling2 (None, 30, 256, 128)      0         \n",
      "_________________________________________________________________\n",
      "conv2d_9 (Conv2D)            (None, 30, 256, 256)      295168    \n",
      "_________________________________________________________________\n",
      "conv2d_10 (Conv2D)           (None, 30, 256, 256)      590080    \n",
      "_________________________________________________________________\n",
      "max_pooling2d_6 (MaxPooling2 (None, 8, 256, 256)       0         \n",
      "_________________________________________________________________\n",
      "conv2d_11 (Conv2D)           (None, 8, 256, 512)       1180160   \n",
      "_________________________________________________________________\n",
      "batch_normalization_2 (Batch (None, 8, 256, 512)       2048      \n",
      "_________________________________________________________________\n",
      "conv2d_12 (Conv2D)           (None, 8, 256, 512)       2359808   \n",
      "_________________________________________________________________\n",
      "batch_normalization_3 (Batch (None, 8, 256, 512)       2048      \n",
      "_________________________________________________________________\n",
      "max_pooling2d_7 (MaxPooling2 (None, 2, 256, 512)       0         \n",
      "_________________________________________________________________\n",
      "conv2d_13 (Conv2D)           (None, 1, 255, 512)       1049088   \n",
      "_________________________________________________________________\n",
      "lambda_1 (Lambda)            (None, 255, 512)          0         \n",
      "_________________________________________________________________\n",
      "bidirectional_2 (Bidirection (None, 255, 512)          1182720   \n",
      "_________________________________________________________________\n",
      "bidirectional_3 (Bidirection (None, 255, 512)          1182720   \n",
      "_________________________________________________________________\n",
      "dense_1 (Dense)              (None, 255, 17)           8721      \n",
      "=================================================================\n",
      "Total params: 7,928,209\n",
      "Trainable params: 7,926,161\n",
      "Non-trainable params: 2,048\n",
      "_________________________________________________________________\n"
     ]
    }
   ],
   "source": [
    "act_model.summary()"
   ]
  },
  {
   "cell_type": "code",
   "execution_count": 40,
   "metadata": {},
   "outputs": [
    {
     "name": "stdout",
     "output_type": "stream",
     "text": [
      "Epoch 1/300\n",
      "\n",
      "Epoch 00001: val_accuracy improved from -inf to 0.00000, saving model to checkpoint\\model.hdf5\n",
      "9/9 - 257s - loss: 73.7906 - accuracy: 0.0000e+00 - val_loss: 7.1370 - val_accuracy: 0.0000e+00\n",
      "Epoch 2/300\n",
      "\n",
      "Epoch 00002: val_accuracy did not improve from 0.00000\n",
      "9/9 - 261s - loss: 7.0701 - accuracy: 0.0000e+00 - val_loss: 4.3393 - val_accuracy: 0.0000e+00\n",
      "Epoch 3/300\n",
      "\n",
      "Epoch 00003: val_accuracy did not improve from 0.00000\n",
      "9/9 - 265s - loss: 6.3200 - accuracy: 0.0000e+00 - val_loss: 4.0625 - val_accuracy: 0.0000e+00\n",
      "Epoch 4/300\n",
      "\n",
      "Epoch 00004: val_accuracy did not improve from 0.00000\n",
      "9/9 - 268s - loss: 6.3233 - accuracy: 0.0000e+00 - val_loss: 4.6100 - val_accuracy: 0.0000e+00\n",
      "Epoch 5/300\n",
      "\n",
      "Epoch 00005: val_accuracy did not improve from 0.00000\n",
      "9/9 - 269s - loss: 6.0056 - accuracy: 0.0000e+00 - val_loss: 4.8685 - val_accuracy: 0.0000e+00\n",
      "Epoch 6/300\n",
      "\n",
      "Epoch 00006: val_accuracy did not improve from 0.00000\n",
      "9/9 - 269s - loss: 5.8172 - accuracy: 0.0000e+00 - val_loss: 4.1402 - val_accuracy: 0.0000e+00\n",
      "Epoch 7/300\n",
      "\n",
      "Epoch 00007: val_accuracy did not improve from 0.00000\n",
      "9/9 - 269s - loss: 5.5677 - accuracy: 0.0000e+00 - val_loss: 3.7129 - val_accuracy: 0.0000e+00\n",
      "Epoch 8/300\n",
      "\n",
      "Epoch 00008: val_accuracy did not improve from 0.00000\n",
      "9/9 - 271s - loss: 5.1123 - accuracy: 0.0000e+00 - val_loss: 3.7522 - val_accuracy: 0.0000e+00\n",
      "Epoch 9/300\n",
      "\n",
      "Epoch 00009: val_accuracy did not improve from 0.00000\n",
      "9/9 - 270s - loss: 4.8826 - accuracy: 0.0000e+00 - val_loss: 5.3433 - val_accuracy: 0.0000e+00\n",
      "Epoch 10/300\n",
      "\n",
      "Epoch 00010: val_accuracy did not improve from 0.00000\n",
      "9/9 - 271s - loss: 4.5697 - accuracy: 0.0000e+00 - val_loss: 6.3298 - val_accuracy: 0.0000e+00\n",
      "Epoch 11/300\n",
      "\n",
      "Epoch 00011: val_accuracy did not improve from 0.00000\n",
      "9/9 - 270s - loss: 4.3300 - accuracy: 0.0000e+00 - val_loss: 7.3516 - val_accuracy: 0.0000e+00\n",
      "Epoch 12/300\n",
      "\n",
      "Epoch 00012: val_accuracy did not improve from 0.00000\n",
      "9/9 - 271s - loss: 4.4249 - accuracy: 0.0000e+00 - val_loss: 7.6079 - val_accuracy: 0.0000e+00\n",
      "Epoch 13/300\n",
      "\n",
      "Epoch 00013: val_accuracy did not improve from 0.00000\n",
      "9/9 - 269s - loss: 4.1305 - accuracy: 0.0000e+00 - val_loss: 7.4559 - val_accuracy: 0.0000e+00\n",
      "Epoch 14/300\n",
      "\n",
      "Epoch 00014: val_accuracy did not improve from 0.00000\n",
      "9/9 - 269s - loss: 4.0123 - accuracy: 0.0000e+00 - val_loss: 7.2822 - val_accuracy: 0.0000e+00\n",
      "Epoch 15/300\n",
      "\n",
      "Epoch 00015: val_accuracy did not improve from 0.00000\n",
      "9/9 - 270s - loss: 3.9636 - accuracy: 0.0000e+00 - val_loss: 7.1456 - val_accuracy: 0.0000e+00\n",
      "Epoch 16/300\n",
      "\n",
      "Epoch 00016: val_accuracy did not improve from 0.00000\n",
      "9/9 - 273s - loss: 3.8694 - accuracy: 0.0000e+00 - val_loss: 6.0867 - val_accuracy: 0.0000e+00\n",
      "Epoch 17/300\n",
      "\n",
      "Epoch 00017: val_accuracy did not improve from 0.00000\n",
      "9/9 - 269s - loss: 3.8244 - accuracy: 0.0000e+00 - val_loss: 4.1592 - val_accuracy: 0.0000e+00\n",
      "Epoch 18/300\n",
      "\n",
      "Epoch 00018: val_accuracy did not improve from 0.00000\n",
      "9/9 - 271s - loss: 3.7285 - accuracy: 0.0000e+00 - val_loss: 4.8639 - val_accuracy: 0.0000e+00\n",
      "Epoch 19/300\n",
      "\n",
      "Epoch 00019: val_accuracy did not improve from 0.00000\n",
      "9/9 - 271s - loss: 3.6522 - accuracy: 0.0000e+00 - val_loss: 4.1248 - val_accuracy: 0.0000e+00\n",
      "Epoch 20/300\n",
      "\n",
      "Epoch 00020: val_accuracy did not improve from 0.00000\n",
      "9/9 - 270s - loss: 3.6064 - accuracy: 0.0000e+00 - val_loss: 3.5537 - val_accuracy: 0.0000e+00\n",
      "Epoch 21/300\n",
      "\n",
      "Epoch 00021: val_accuracy did not improve from 0.00000\n",
      "9/9 - 269s - loss: 3.5814 - accuracy: 0.0000e+00 - val_loss: 3.5067 - val_accuracy: 0.0000e+00\n",
      "Epoch 22/300\n",
      "\n",
      "Epoch 00022: val_accuracy did not improve from 0.00000\n",
      "9/9 - 271s - loss: 3.5015 - accuracy: 0.0000e+00 - val_loss: 2.7766 - val_accuracy: 0.0000e+00\n",
      "Epoch 23/300\n",
      "\n",
      "Epoch 00023: val_accuracy did not improve from 0.00000\n",
      "9/9 - 270s - loss: 3.3597 - accuracy: 0.0116 - val_loss: 2.8765 - val_accuracy: 0.0000e+00\n",
      "Epoch 24/300\n",
      "\n",
      "Epoch 00024: val_accuracy did not improve from 0.00000\n",
      "9/9 - 269s - loss: 3.2317 - accuracy: 0.0000e+00 - val_loss: 3.1678 - val_accuracy: 0.0000e+00\n",
      "Epoch 25/300\n",
      "\n",
      "Epoch 00025: val_accuracy did not improve from 0.00000\n",
      "9/9 - 271s - loss: 3.2123 - accuracy: 0.0462 - val_loss: 2.6204 - val_accuracy: 0.0000e+00\n",
      "Epoch 26/300\n",
      "\n",
      "Epoch 00026: val_accuracy improved from 0.00000 to 0.07692, saving model to checkpoint\\model.hdf5\n",
      "9/9 - 274s - loss: 3.1017 - accuracy: 0.0173 - val_loss: 2.6683 - val_accuracy: 0.0769\n",
      "Epoch 27/300\n",
      "\n",
      "Epoch 00027: val_accuracy did not improve from 0.07692\n",
      "9/9 - 269s - loss: 2.9865 - accuracy: 0.0636 - val_loss: 2.4900 - val_accuracy: 0.0000e+00\n",
      "Epoch 28/300\n",
      "\n",
      "Epoch 00028: val_accuracy did not improve from 0.07692\n",
      "9/9 - 271s - loss: 2.9788 - accuracy: 0.0867 - val_loss: 2.5415 - val_accuracy: 0.0769\n",
      "Epoch 29/300\n",
      "\n",
      "Epoch 00029: val_accuracy did not improve from 0.07692\n",
      "9/9 - 270s - loss: 3.0731 - accuracy: 0.0809 - val_loss: 15.7838 - val_accuracy: 0.0000e+00\n",
      "Epoch 30/300\n",
      "\n",
      "Epoch 00030: val_accuracy did not improve from 0.07692\n",
      "9/9 - 269s - loss: 2.8990 - accuracy: 0.1040 - val_loss: 2.6927 - val_accuracy: 0.0769\n",
      "Epoch 31/300\n",
      "\n",
      "Epoch 00031: val_accuracy did not improve from 0.07692\n",
      "9/9 - 270s - loss: 2.6126 - accuracy: 0.0925 - val_loss: 2.4846 - val_accuracy: 0.0769\n",
      "Epoch 32/300\n",
      "\n",
      "Epoch 00032: val_accuracy improved from 0.07692 to 0.15385, saving model to checkpoint\\model.hdf5\n",
      "9/9 - 273s - loss: 2.4773 - accuracy: 0.1387 - val_loss: 2.6759 - val_accuracy: 0.1538\n",
      "Epoch 33/300\n",
      "\n",
      "Epoch 00033: val_accuracy did not improve from 0.15385\n",
      "9/9 - 270s - loss: 2.3623 - accuracy: 0.2139 - val_loss: 2.7657 - val_accuracy: 0.0769\n",
      "Epoch 34/300\n",
      "\n",
      "Epoch 00034: val_accuracy did not improve from 0.15385\n",
      "9/9 - 270s - loss: 2.2046 - accuracy: 0.2370 - val_loss: 2.7829 - val_accuracy: 0.0769\n",
      "Epoch 35/300\n",
      "\n",
      "Epoch 00035: val_accuracy did not improve from 0.15385\n",
      "9/9 - 274s - loss: 2.0651 - accuracy: 0.3295 - val_loss: 2.4809 - val_accuracy: 0.1538\n",
      "Epoch 36/300\n",
      "\n",
      "Epoch 00036: val_accuracy improved from 0.15385 to 0.30769, saving model to checkpoint\\model.hdf5\n",
      "9/9 - 270s - loss: 2.0781 - accuracy: 0.3410 - val_loss: 2.1271 - val_accuracy: 0.3077\n",
      "Epoch 37/300\n",
      "\n",
      "Epoch 00037: val_accuracy did not improve from 0.30769\n",
      "9/9 - 270s - loss: 2.0368 - accuracy: 0.3584 - val_loss: 3.4239 - val_accuracy: 0.0769\n",
      "Epoch 38/300\n",
      "\n",
      "Epoch 00038: val_accuracy did not improve from 0.30769\n",
      "9/9 - 272s - loss: 2.0058 - accuracy: 0.3526 - val_loss: 4.4887 - val_accuracy: 0.0000e+00\n",
      "Epoch 39/300\n",
      "\n",
      "Epoch 00039: val_accuracy did not improve from 0.30769\n",
      "9/9 - 272s - loss: 1.7846 - accuracy: 0.3873 - val_loss: 2.4604 - val_accuracy: 0.1538\n",
      "Epoch 40/300\n",
      "\n",
      "Epoch 00040: val_accuracy did not improve from 0.30769\n",
      "9/9 - 271s - loss: 1.6259 - accuracy: 0.5145 - val_loss: 2.0177 - val_accuracy: 0.2308\n",
      "Epoch 41/300\n",
      "\n",
      "Epoch 00041: val_accuracy improved from 0.30769 to 0.38462, saving model to checkpoint\\model.hdf5\n",
      "9/9 - 271s - loss: 1.5832 - accuracy: 0.5491 - val_loss: 1.6588 - val_accuracy: 0.3846\n",
      "Epoch 42/300\n",
      "\n",
      "Epoch 00042: val_accuracy did not improve from 0.38462\n",
      "9/9 - 270s - loss: 1.4951 - accuracy: 0.6127 - val_loss: 1.6358 - val_accuracy: 0.3846\n",
      "Epoch 43/300\n",
      "\n",
      "Epoch 00043: val_accuracy did not improve from 0.38462\n",
      "9/9 - 274s - loss: 1.3714 - accuracy: 0.6705 - val_loss: 1.6557 - val_accuracy: 0.3077\n",
      "Epoch 44/300\n",
      "\n",
      "Epoch 00044: val_accuracy did not improve from 0.38462\n",
      "9/9 - 270s - loss: 1.3291 - accuracy: 0.6705 - val_loss: 1.6357 - val_accuracy: 0.3846\n",
      "Epoch 45/300\n",
      "\n",
      "Epoch 00045: val_accuracy did not improve from 0.38462\n",
      "9/9 - 271s - loss: 1.2916 - accuracy: 0.6647 - val_loss: 1.7090 - val_accuracy: 0.3077\n",
      "Epoch 46/300\n",
      "\n",
      "Epoch 00046: val_accuracy did not improve from 0.38462\n",
      "9/9 - 271s - loss: 1.2237 - accuracy: 0.6532 - val_loss: 1.8176 - val_accuracy: 0.3077\n",
      "Epoch 47/300\n",
      "\n",
      "Epoch 00047: val_accuracy did not improve from 0.38462\n",
      "9/9 - 270s - loss: 1.0824 - accuracy: 0.6936 - val_loss: 1.5710 - val_accuracy: 0.3846\n",
      "Epoch 48/300\n",
      "\n",
      "Epoch 00048: val_accuracy improved from 0.38462 to 0.46154, saving model to checkpoint\\model.hdf5\n",
      "9/9 - 271s - loss: 0.9950 - accuracy: 0.7457 - val_loss: 1.5932 - val_accuracy: 0.4615\n",
      "Epoch 49/300\n",
      "\n",
      "Epoch 00049: val_accuracy did not improve from 0.46154\n",
      "9/9 - 270s - loss: 0.9358 - accuracy: 0.7861 - val_loss: 1.5095 - val_accuracy: 0.4615\n",
      "Epoch 50/300\n",
      "\n",
      "Epoch 00050: val_accuracy improved from 0.46154 to 0.53846, saving model to checkpoint\\model.hdf5\n",
      "9/9 - 271s - loss: 0.7988 - accuracy: 0.8382 - val_loss: 1.3220 - val_accuracy: 0.5385\n"
     ]
    },
    {
     "name": "stdout",
     "output_type": "stream",
     "text": [
      "Epoch 51/300\n",
      "\n",
      "Epoch 00051: val_accuracy improved from 0.53846 to 0.61538, saving model to checkpoint\\model.hdf5\n",
      "9/9 - 272s - loss: 0.7477 - accuracy: 0.8671 - val_loss: 1.3158 - val_accuracy: 0.6154\n",
      "Epoch 52/300\n",
      "\n",
      "Epoch 00052: val_accuracy did not improve from 0.61538\n",
      "9/9 - 271s - loss: 0.6960 - accuracy: 0.8555 - val_loss: 1.5296 - val_accuracy: 0.5385\n",
      "Epoch 53/300\n",
      "\n",
      "Epoch 00053: val_accuracy did not improve from 0.61538\n",
      "9/9 - 272s - loss: 0.6627 - accuracy: 0.8671 - val_loss: 1.2619 - val_accuracy: 0.5385\n",
      "Epoch 54/300\n",
      "\n",
      "Epoch 00054: val_accuracy did not improve from 0.61538\n",
      "9/9 - 271s - loss: 0.6864 - accuracy: 0.8728 - val_loss: 1.4866 - val_accuracy: 0.5385\n",
      "Epoch 55/300\n",
      "\n",
      "Epoch 00055: val_accuracy did not improve from 0.61538\n",
      "9/9 - 271s - loss: 0.6708 - accuracy: 0.8786 - val_loss: 1.6844 - val_accuracy: 0.5385\n",
      "Epoch 56/300\n",
      "\n",
      "Epoch 00056: val_accuracy improved from 0.61538 to 0.69231, saving model to checkpoint\\model.hdf5\n",
      "9/9 - 271s - loss: 0.6061 - accuracy: 0.8960 - val_loss: 1.3012 - val_accuracy: 0.6923\n",
      "Epoch 57/300\n",
      "\n",
      "Epoch 00057: val_accuracy did not improve from 0.69231\n",
      "9/9 - 271s - loss: 0.5403 - accuracy: 0.8786 - val_loss: 1.5192 - val_accuracy: 0.5385\n",
      "Epoch 58/300\n",
      "\n",
      "Epoch 00058: val_accuracy did not improve from 0.69231\n",
      "9/9 - 272s - loss: 0.4829 - accuracy: 0.8960 - val_loss: 1.4294 - val_accuracy: 0.5385\n",
      "Epoch 59/300\n",
      "\n",
      "Epoch 00059: val_accuracy did not improve from 0.69231\n",
      "9/9 - 271s - loss: 0.4766 - accuracy: 0.8960 - val_loss: 1.4658 - val_accuracy: 0.5385\n",
      "Epoch 60/300\n",
      "\n",
      "Epoch 00060: val_accuracy did not improve from 0.69231\n",
      "9/9 - 273s - loss: 0.4100 - accuracy: 0.9133 - val_loss: 1.3248 - val_accuracy: 0.6154\n",
      "Epoch 61/300\n",
      "\n",
      "Epoch 00061: val_accuracy did not improve from 0.69231\n",
      "9/9 - 272s - loss: 0.3630 - accuracy: 0.9133 - val_loss: 1.4128 - val_accuracy: 0.6154\n",
      "Epoch 62/300\n",
      "\n",
      "Epoch 00062: val_accuracy did not improve from 0.69231\n",
      "9/9 - 270s - loss: 0.3386 - accuracy: 0.9191 - val_loss: 1.5288 - val_accuracy: 0.5385\n",
      "Epoch 63/300\n",
      "\n",
      "Epoch 00063: val_accuracy did not improve from 0.69231\n",
      "9/9 - 270s - loss: 0.3256 - accuracy: 0.9191 - val_loss: 1.3654 - val_accuracy: 0.6923\n",
      "Epoch 64/300\n",
      "\n",
      "Epoch 00064: val_accuracy did not improve from 0.69231\n",
      "9/9 - 271s - loss: 0.3188 - accuracy: 0.9191 - val_loss: 1.3622 - val_accuracy: 0.6154\n",
      "Epoch 65/300\n",
      "\n",
      "Epoch 00065: val_accuracy did not improve from 0.69231\n",
      "9/9 - 271s - loss: 0.2928 - accuracy: 0.9191 - val_loss: 1.3382 - val_accuracy: 0.6923\n",
      "Epoch 66/300\n",
      "\n",
      "Epoch 00066: val_accuracy did not improve from 0.69231\n",
      "9/9 - 270s - loss: 0.2599 - accuracy: 0.9306 - val_loss: 1.3621 - val_accuracy: 0.6923\n",
      "Epoch 67/300\n",
      "\n",
      "Epoch 00067: val_accuracy did not improve from 0.69231\n",
      "9/9 - 272s - loss: 0.2362 - accuracy: 0.9306 - val_loss: 1.3456 - val_accuracy: 0.6923\n",
      "Epoch 68/300\n",
      "\n",
      "Epoch 00068: val_accuracy did not improve from 0.69231\n",
      "9/9 - 271s - loss: 0.2329 - accuracy: 0.9249 - val_loss: 1.3919 - val_accuracy: 0.6154\n",
      "Epoch 69/300\n",
      "\n",
      "Epoch 00069: val_accuracy did not improve from 0.69231\n",
      "9/9 - 273s - loss: 0.2168 - accuracy: 0.9364 - val_loss: 1.3635 - val_accuracy: 0.6923\n",
      "Epoch 70/300\n",
      "\n",
      "Epoch 00070: val_accuracy did not improve from 0.69231\n",
      "9/9 - 275s - loss: 0.2223 - accuracy: 0.9249 - val_loss: 1.3730 - val_accuracy: 0.6923\n",
      "Epoch 71/300\n",
      "\n",
      "Epoch 00071: val_accuracy did not improve from 0.69231\n",
      "9/9 - 273s - loss: 0.2154 - accuracy: 0.9364 - val_loss: 1.4235 - val_accuracy: 0.6923\n",
      "Epoch 72/300\n",
      "\n",
      "Epoch 00072: val_accuracy did not improve from 0.69231\n",
      "9/9 - 272s - loss: 0.2090 - accuracy: 0.9306 - val_loss: 1.4144 - val_accuracy: 0.6923\n",
      "Epoch 73/300\n",
      "\n",
      "Epoch 00073: val_accuracy did not improve from 0.69231\n",
      "9/9 - 272s - loss: 0.2018 - accuracy: 0.9306 - val_loss: 1.4548 - val_accuracy: 0.6923\n",
      "Epoch 00073: early stopping\n"
     ]
    }
   ],
   "source": [
    "batch_size = 20\n",
    "epochs = 300\n",
    "\n",
    "model.compile(loss={'ctc': lambda y_true, y_pred: y_pred}, optimizer = 'adam', metrics=['accuracy'])\n",
    "\n",
    "os.makedirs('checkpoint', exist_ok=True)\n",
    "\n",
    "filepath=\"checkpoint/model.hdf5\"\n",
    "es = EarlyStopping(monitor='val_loss', mode='min', verbose=1, patience=20)\n",
    "reduce_lr = ReduceLROnPlateau(monitor='val_loss', factor=0.7,\n",
    "                              patience=5, min_lr=0.00001)\n",
    "\n",
    "checkpoint = ModelCheckpoint(filepath=filepath, monitor='val_accuracy', verbose=1, save_best_only=True, mode='auto')\n",
    "callbacks_list = [checkpoint,es,reduce_lr]\n",
    "\n",
    "history = model.fit(x=[train_images, train_padded_label, train_input_length, train_label_length],\n",
    "                    y=np.zeros(len(train_images)),\n",
    "                    batch_size=batch_size, \n",
    "                    epochs=epochs, \n",
    "                    validation_data=([val_images, val_padded_label, val_input_length, val_label_length], [np.zeros(len(val_images))]),\n",
    "                    verbose=2,\n",
    "                    callbacks=callbacks_list)"
   ]
  },
  {
   "cell_type": "code",
   "execution_count": 41,
   "metadata": {},
   "outputs": [
    {
     "name": "stdout",
     "output_type": "stream",
     "text": [
      "WARNING:tensorflow:From C:\\ProgramData\\Anaconda3\\lib\\site-packages\\tensorflow\\python\\util\\dispatch.py:201: sparse_to_dense (from tensorflow.python.ops.sparse_ops) is deprecated and will be removed in a future version.\n",
      "Instructions for updating:\n",
      "Create a `tf.sparse.SparseTensor` and use `tf.sparse.to_dense` instead.\n",
      "8.403263330459595\n"
     ]
    }
   ],
   "source": [
    "start = time.time()\n",
    "act_model.load_weights(filepath)\n",
    "prediction = act_model.predict(val_images)\n",
    "\n",
    "decoded = K.ctc_decode(prediction, \n",
    "                       input_length=np.ones(prediction.shape[0]) * prediction.shape[1],\n",
    "                       greedy=True)[0][0]\n",
    "out = K.get_value(decoded)\n",
    "end = time.time()\n",
    "print(end-start)"
   ]
  },
  {
   "cell_type": "code",
   "execution_count": 42,
   "metadata": {},
   "outputs": [
    {
     "name": "stdout",
     "output_type": "stream",
     "text": [
      "Ground truth -> Recognized\n",
      "[OK] \"0\" -> \"0\"\n",
      "[OK] \"1\" -> \"1\"\n",
      "[OK] \"2\" -> \"2\"\n",
      "[ERR:1] \"3\" -> \"2\"\n",
      "[OK] \"4\" -> \"4\"\n",
      "[OK] \"5\" -> \"5\"\n",
      "[OK] \"5\" -> \"5\"\n",
      "[OK] \"7\" -> \"7\"\n",
      "[OK] \"8\" -> \"8\"\n",
      "[ERR:1] \"9\" -> \"5\"\n",
      "[ERR:1] \"И\" -> \"и\"\n",
      "[OK] \"К\" -> \"К\"\n",
      "[ERR:1] \"Н\" -> \"И\"\n",
      "Character error rate: 30.769231%. Word error rate: 30.769231%. String accuracy: 69.230769%.\n"
     ]
    }
   ],
   "source": [
    "numCharErr = 0\n",
    "numCharTotal = 0\n",
    "numStringOK = 0\n",
    "numStringTotal = 0\n",
    "\n",
    "word_eds, word_true_lens = [], []\n",
    "\n",
    "print('Ground truth -> Recognized')\t\n",
    "for i in range(len(out)):\n",
    "    pred = ''\n",
    "    for p in out[i]:\n",
    "        if int(p) != -1:\n",
    "            pred+=letters[int(p)]\n",
    "    true = val_original_text[i]\n",
    "    \n",
    "    numStringOK += 1 if true == pred else 0\n",
    "    numStringTotal += 1\n",
    "    dist = editdistance.eval(pred, true)\n",
    "    numCharErr += dist\n",
    "    numCharTotal += len(true)\n",
    "    \n",
    "    pred_words = pred.split()\n",
    "    true_words = true.split()\n",
    "    word_eds.append(editdistance.eval(pred_words, true_words))\n",
    "    word_true_lens.append(len(true_words))\n",
    "    \n",
    "    print('[OK]' if dist==0 else '[ERR:%d]' % dist,'\"' + true + '\"', '->', '\"' + pred + '\"')\n",
    "\n",
    "charErrorRate = numCharErr / numCharTotal\n",
    "wordErrorRate = sum(word_eds) / sum(word_true_lens) \n",
    "stringAccuracy = numStringOK / numStringTotal\n",
    "print('Character error rate: %f%%. Word error rate: %f%%. String accuracy: %f%%.' % \\\n",
    "      (charErrorRate*100.0,wordErrorRate*100.0, stringAccuracy*100.0))"
   ]
  },
  {
   "cell_type": "code",
   "execution_count": 46,
   "metadata": {},
   "outputs": [
    {
     "name": "stdout",
     "output_type": "stream",
     "text": [
      "84.25447797775269\n"
     ]
    }
   ],
   "source": [
    "names_test = names_val\n",
    "test_image_dir = 'test/images'\n",
    "\n",
    "test_images = []\n",
    "names_test = []\n",
    "\n",
    "for name in os.listdir(test_image_dir):\n",
    "     img = cv2.imread(test_image_dir+'/'+name)\n",
    "     img = process_image(img)\n",
    "     test_images.append(img)\n",
    "     names_test.append(name)\n",
    "test_images = np.asarray(test_images)\n",
    "\n",
    "start = time.time()\n",
    "\n",
    "prediction =act_model.predict(test_images)\n",
    " \n",
    "decoded = K.ctc_decode(prediction,   \n",
    "                       input_length=np.ones(prediction.shape[0]) * prediction.shape[1],\n",
    "                       greedy=True)[0][0]\n",
    "\n",
    "out = K.get_value(decoded)\n",
    "\n",
    "prediction = []\n",
    "for i, x in enumerate(out):\n",
    "    pred = ''\n",
    "    for p in x:\n",
    "        if int(p) != -1:\n",
    "            pred+=letters[int(p)]\n",
    "            \n",
    "    prediction.append(pred)\n",
    "end = time.time()\n",
    "print(end - start)"
   ]
  },
  {
   "cell_type": "code",
   "execution_count": 47,
   "metadata": {},
   "outputs": [
    {
     "data": {
      "text/plain": [
       "201"
      ]
     },
     "execution_count": 47,
     "metadata": {},
     "output_type": "execute_result"
    }
   ],
   "source": [
    "len(prediction)"
   ]
  },
  {
   "cell_type": "code",
   "execution_count": 49,
   "metadata": {},
   "outputs": [],
   "source": [
    "output_dir = 'predictions'\n",
    "os.makedirs(output_dir, exist_ok=True)\n",
    "\n",
    "for num, (name, line) in enumerate(zip(names_test, prediction)):\n",
    "    with open(os.path.join(output_dir, name.replace('.jpg', '.TXT')), 'w',encoding='utf-8') as file:\n",
    "        file.write(line)"
   ]
  },
  {
   "cell_type": "code",
   "execution_count": 59,
   "metadata": {},
   "outputs": [
    {
     "data": {
      "text/plain": [
       "'779712517'"
      ]
     },
     "execution_count": 59,
     "metadata": {},
     "output_type": "execute_result"
    }
   ],
   "source": [
    "prediction[-1]"
   ]
  },
  {
   "cell_type": "code",
   "execution_count": 60,
   "metadata": {},
   "outputs": [
    {
     "name": "stderr",
     "output_type": "stream",
     "text": [
      "Clipping input data to the valid range for imshow with RGB data ([0..1] for floats or [0..255] for integers).\n"
     ]
    },
    {
     "data": {
      "text/plain": [
       "<matplotlib.image.AxesImage at 0x23f963353a0>"
      ]
     },
     "execution_count": 60,
     "metadata": {},
     "output_type": "execute_result"
    },
    {
     "data": {
      "image/png": "[encoded data removed]",
      "text/plain": [
       "<Figure size 432x288 with 1 Axes>"
      ]
     },
     "metadata": {
      "needs_background": "light"
     },
     "output_type": "display_data"
    }
   ],
   "source": [
    "plt.imshow(img)"
   ]
  },
  {
   "cell_type": "code",
   "execution_count": null,
   "metadata": {},
   "outputs": [],
   "source": []
  }
 ],
 "metadata": {
  "kernelspec": {
   "display_name": "Python 3",
   "language": "python",
   "name": "python3"
  },
  "language_info": {
   "codemirror_mode": {
    "name": "ipython",
    "version": 3
   },
   "file_extension": ".py",
   "mimetype": "text/x-python",
   "name": "python",
   "nbconvert_exporter": "python",
   "pygments_lexer": "ipython3",
   "version": "3.8.3"
  }
 },
 "nbformat": 4,
 "nbformat_minor": 4
}
